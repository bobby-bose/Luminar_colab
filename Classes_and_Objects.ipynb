{
  "nbformat": 4,
  "nbformat_minor": 0,
  "metadata": {
    "colab": {
      "name": "Classes and Objects.ipynb",
      "provenance": [],
      "authorship_tag": "ABX9TyPN/T9BypUFgsMqOC/3YLYb",
      "include_colab_link": true
    },
    "kernelspec": {
      "name": "python3",
      "display_name": "Python 3"
    },
    "language_info": {
      "name": "python"
    }
  },
  "cells": [
    {
      "cell_type": "markdown",
      "metadata": {
        "id": "view-in-github",
        "colab_type": "text"
      },
      "source": [
        "<a href=\"https://colab.research.google.com/github/bobby-bose/Luminar_colab/blob/main/Classes_and_Objects.ipynb\" target=\"_parent\"><img src=\"https://colab.research.google.com/assets/colab-badge.svg\" alt=\"Open In Colab\"/></a>"
      ]
    },
    {
      "cell_type": "code",
      "execution_count": 1,
      "metadata": {
        "colab": {
          "base_uri": "https://localhost:8080/"
        },
        "id": "Jc7ENj1cuLxk",
        "outputId": "84178153-77da-41d1-d317-a389fd1a1173"
      },
      "outputs": [
        {
          "output_type": "stream",
          "name": "stdout",
          "text": [
            "Rodger details:\n",
            "Rodger is a dog\n",
            "Breed:  Pug\n",
            "Color:  brown\n",
            "\n",
            "Buzo details:\n",
            "Buzo is a dog\n",
            "Breed:  Bulldog\n",
            "Color:  black\n",
            "\n",
            "Accessing class variable using class name\n",
            "dog\n"
          ]
        }
      ],
      "source": [
        "class Dog:\n",
        "\t# Class Variable\n",
        "\tanimal = 'dog'\n",
        "\t# The init method or constructor\n",
        "\tdef __init__(self, breed, color):\n",
        "\t\t# Instance Variable\n",
        "\t\tself.breed = breed\n",
        "\t\tself.color = color\n",
        "# Objects of Dog class\n",
        "Rodger = Dog(\"Pug\", \"brown\")\n",
        "Buzo = Dog(\"Bulldog\", \"black\")\n",
        "print('Rodger details:')\n",
        "print('Rodger is a', Rodger.animal)\n",
        "print('Breed: ', Rodger.breed)\n",
        "print('Color: ', Rodger.color)\n",
        "print('\\nBuzo details:')\n",
        "print('Buzo is a', Buzo.animal)\n",
        "print('Breed: ', Buzo.breed)\n",
        "print('Color: ', Buzo.color)\n",
        "# Class variables can be accessed using class\n",
        "# name also\n",
        "print(\"\\nAccessing class variable using class name\")\n",
        "print(Dog.animal)\n"
      ]
    },
    {
      "cell_type": "code",
      "source": [
        "class GeekforGeeks:\n",
        "\t# default constructor\n",
        "\tdef __init__(self):\n",
        "\t\tself.geek = \"GeekforGeeks\"\n",
        "\t# a method for printing data members\n",
        "\tdef print_Geek(self):\n",
        "\t\tprint(self.geek)\n",
        "# creating object of the class\n",
        "obj = GeekforGeeks()\n",
        "# calling the instance method using the object obj\n",
        "obj.print_Geek()\n"
      ],
      "metadata": {
        "colab": {
          "base_uri": "https://localhost:8080/"
        },
        "id": "SWApZBEwuxMn",
        "outputId": "7b15b1cf-d8fa-4c33-95e9-5d9d20eb61b6"
      },
      "execution_count": 2,
      "outputs": [
        {
          "output_type": "stream",
          "name": "stdout",
          "text": [
            "GeekforGeeks\n"
          ]
        }
      ]
    }
  ]
}