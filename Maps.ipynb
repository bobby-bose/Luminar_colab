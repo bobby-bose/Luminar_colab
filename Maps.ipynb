{
  "nbformat": 4,
  "nbformat_minor": 0,
  "metadata": {
    "colab": {
      "name": "Maps.ipynb",
      "provenance": [],
      "authorship_tag": "ABX9TyMKAVOAHVlb1bF62utdI+5J",
      "include_colab_link": true
    },
    "kernelspec": {
      "name": "python3",
      "display_name": "Python 3"
    },
    "language_info": {
      "name": "python"
    }
  },
  "cells": [
    {
      "cell_type": "markdown",
      "metadata": {
        "id": "view-in-github",
        "colab_type": "text"
      },
      "source": [
        "<a href=\"https://colab.research.google.com/github/bobby-bose/Luminar_colab/blob/main/Maps.ipynb\" target=\"_parent\"><img src=\"https://colab.research.google.com/assets/colab-badge.svg\" alt=\"Open In Colab\"/></a>"
      ]
    },
    {
      "cell_type": "code",
      "execution_count": 1,
      "metadata": {
        "colab": {
          "base_uri": "https://localhost:8080/"
        },
        "id": "JI3nzi8aHcFx",
        "outputId": "dbb293be-9653-4c22-87e2-0279e334a7eb"
      },
      "outputs": [
        {
          "output_type": "stream",
          "name": "stdout",
          "text": [
            "[2, 4, 6, 8]\n"
          ]
        }
      ],
      "source": [
        "def addition(n):\n",
        "\treturn n + n\n",
        "\n",
        "numbers = (1, 2, 3, 4)\n",
        "result = map(addition, numbers)\n",
        "print(list(result))\n"
      ]
    },
    {
      "cell_type": "code",
      "source": [
        "numbers = (1, 2, 3, 4)\n",
        "result = map(lambda x: x + x, numbers)\n",
        "print(list(result))\n"
      ],
      "metadata": {
        "colab": {
          "base_uri": "https://localhost:8080/"
        },
        "id": "31hn808yHkPu",
        "outputId": "f932c05a-3e66-4fa7-8033-56bc7ead31df"
      },
      "execution_count": 2,
      "outputs": [
        {
          "output_type": "stream",
          "name": "stdout",
          "text": [
            "[2, 4, 6, 8]\n"
          ]
        }
      ]
    },
    {
      "cell_type": "code",
      "source": [
        "numbers1 = [1, 2, 3]\n",
        "numbers2 = [4, 5, 6]\n",
        "result = map(lambda x, y: x + y, numbers1, numbers2)\n",
        "print(list(result))\n"
      ],
      "metadata": {
        "colab": {
          "base_uri": "https://localhost:8080/"
        },
        "id": "FH2kT4o5Hnw9",
        "outputId": "91aa8711-9aea-4a9b-d65d-300c4ee10ae0"
      },
      "execution_count": 3,
      "outputs": [
        {
          "output_type": "stream",
          "name": "stdout",
          "text": [
            "[5, 7, 9]\n"
          ]
        }
      ]
    },
    {
      "cell_type": "code",
      "source": [
        "l = ['sat', 'bat', 'cat', 'mat']\n",
        "test = list(map(list, l))\n",
        "print(test)\n"
      ],
      "metadata": {
        "colab": {
          "base_uri": "https://localhost:8080/"
        },
        "id": "3VeRFtQuHr9O",
        "outputId": "cbfe6726-4ad5-4317-f7b3-5bb4c83a468e"
      },
      "execution_count": 4,
      "outputs": [
        {
          "output_type": "stream",
          "name": "stdout",
          "text": [
            "[['s', 'a', 't'], ['b', 'a', 't'], ['c', 'a', 't'], ['m', 'a', 't']]\n"
          ]
        }
      ]
    }
  ]
}