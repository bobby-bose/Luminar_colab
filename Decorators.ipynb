{
  "nbformat": 4,
  "nbformat_minor": 0,
  "metadata": {
    "colab": {
      "name": "Decorators.ipynb",
      "provenance": [],
      "authorship_tag": "ABX9TyPjSby3GdHYUJXz0dsIK+EU",
      "include_colab_link": true
    },
    "kernelspec": {
      "name": "python3",
      "display_name": "Python 3"
    },
    "language_info": {
      "name": "python"
    }
  },
  "cells": [
    {
      "cell_type": "markdown",
      "metadata": {
        "id": "view-in-github",
        "colab_type": "text"
      },
      "source": [
        "<a href=\"https://colab.research.google.com/github/bobby-bose/Luminar_colab/blob/main/Decorators.ipynb\" target=\"_parent\"><img src=\"https://colab.research.google.com/assets/colab-badge.svg\" alt=\"Open In Colab\"/></a>"
      ]
    },
    {
      "cell_type": "code",
      "execution_count": null,
      "metadata": {
        "colab": {
          "base_uri": "https://localhost:8080/"
        },
        "id": "-XPdALezF4i2",
        "outputId": "4b31c017-f476-4a5f-af5a-95d679f8c840"
      },
      "outputs": [
        {
          "output_type": "stream",
          "name": "stdout",
          "text": [
            "Hello, this is before function execution\n",
            "This is inside the function !!\n",
            "This is after function execution\n"
          ]
        }
      ],
      "source": [
        "def hello_decorator(func):\n",
        "\tdef inner1():\n",
        "\t\tprint(\"Hello, this is before function execution\")\n",
        "\t\tfunc()\n",
        "\t\tprint(\"This is after function execution\")\n",
        "\treturn inner1\n",
        "\n",
        "def function_to_be_used():\n",
        "\tprint(\"This is inside the function !!\")\n",
        "function_to_be_used = hello_decorator(function_to_be_used)\n",
        "function_to_be_used()\n"
      ]
    },
    {
      "cell_type": "code",
      "source": [
        "import time\n",
        "import math\n",
        "def calculate_time(func):\n",
        "\tdef inner1(*args, **kwargs):\n",
        "\t\tbegin = time.time()\n",
        "\t\tfunc(*args, **kwargs)\n",
        "\t\tend = time.time()\n",
        "\t\tprint(\"Total time taken in : \", func.__name__, end - begin)\n",
        "\treturn inner1\n",
        "  \n",
        "@calculate_time\n",
        "def factorial(num):\n",
        "\ttime.sleep(2)\n",
        "\tprint(math.factorial(num))\n",
        "factorial(10)\n"
      ],
      "metadata": {
        "colab": {
          "base_uri": "https://localhost:8080/"
        },
        "id": "ggREHFpvGSlw",
        "outputId": "2679fbd3-5a0f-40c7-ddb9-257e84da9217"
      },
      "execution_count": null,
      "outputs": [
        {
          "output_type": "stream",
          "name": "stdout",
          "text": [
            "3628800\n",
            "Total time taken in :  factorial 2.006502151489258\n"
          ]
        }
      ]
    },
    {
      "cell_type": "code",
      "source": [
        "from datetime import datetime\n",
        "def log_datetime(func):\n",
        "    def wrapper():\n",
        "        print(f'Function: {func.__name__}\\nRun on: {datetime.today().strftime(\"%Y-%m-%d %H:%M:%S\")}')\n",
        "        print(f'{\"-\"*30}')\n",
        "        func()\n",
        "    return wrapper\n",
        "\n",
        "@log_datetime\n",
        "def daily_backup():\n",
        "    print('Daily backup job has finished.')       \n",
        "daily_backup()"
      ],
      "metadata": {
        "colab": {
          "base_uri": "https://localhost:8080/"
        },
        "id": "Z8hrbvaNGsf8",
        "outputId": "5ca2824e-6b66-418c-d61e-8dea3492fc65"
      },
      "execution_count": null,
      "outputs": [
        {
          "output_type": "stream",
          "name": "stdout",
          "text": [
            "Function: daily_backup\n",
            "Run on: 2022-07-16 03:43:57\n",
            "------------------------------\n",
            "Daily backup job has finished.\n"
          ]
        }
      ]
    },
    {
      "cell_type": "code",
      "source": [
        "import requests\n",
        "class LimitQuery:\n",
        "    def __init__(self, func):\n",
        "        self.func = func\n",
        "        self.count = 0\n",
        "    def __call__(self, *args, **kwargs):\n",
        "        self.limit = args[0]\n",
        "        if self.count < self.limit:\n",
        "            self.count += 1\n",
        "            return self.func(*args, **kwargs)\n",
        "        else:\n",
        "            print(f'No queries left. All {self.count} queries used.')\n",
        "            return\n",
        "\n",
        "@LimitQuery\n",
        "def get_coin_price(limit):\n",
        "    '''View the Bitcoin Price Index (BPI)'''\n",
        "    url = requests.get('https://api.coindesk.com/v1/bpi/currentprice.json')\n",
        "    if url.status_code == 200:\n",
        "        text = url.json()\n",
        "        return f\"${float(text['bpi']['USD']['rate_float']):.2f}\"\n",
        "\n",
        "\n",
        "print(get_coin_price(5))\n",
        "print(get_coin_price(5))\n",
        "print(get_coin_price(5))\n",
        "print(get_coin_price(5))\n",
        "print(get_coin_price(5))\n",
        "print(get_coin_price(5))"
      ],
      "metadata": {
        "id": "TS1RY1p6G-4W",
        "outputId": "36342c40-ad20-434f-fb94-eb6fda3c0ecc",
        "colab": {
          "base_uri": "https://localhost:8080/"
        }
      },
      "execution_count": null,
      "outputs": [
        {
          "output_type": "stream",
          "name": "stdout",
          "text": [
            "$20752.20\n",
            "$20752.20\n",
            "$20752.20\n",
            "$20752.20\n",
            "$20752.20\n",
            "No queries left. All 5 queries used.\n",
            "None\n"
          ]
        }
      ]
    }
  ]
}