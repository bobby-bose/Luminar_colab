{
  "nbformat": 4,
  "nbformat_minor": 0,
  "metadata": {
    "colab": {
      "name": "Access Modifiers.ipynb",
      "provenance": [],
      "authorship_tag": "ABX9TyP2wfyeB5jBDkrCszeHuu/D",
      "include_colab_link": true
    },
    "kernelspec": {
      "name": "python3",
      "display_name": "Python 3"
    },
    "language_info": {
      "name": "python"
    }
  },
  "cells": [
    {
      "cell_type": "markdown",
      "metadata": {
        "id": "view-in-github",
        "colab_type": "text"
      },
      "source": [
        "<a href=\"https://colab.research.google.com/github/bobby-bose/Luminar_colab/blob/main/Access_Modifiers.ipynb\" target=\"_parent\"><img src=\"https://colab.research.google.com/assets/colab-badge.svg\" alt=\"Open In Colab\"/></a>"
      ]
    },
    {
      "cell_type": "code",
      "execution_count": 1,
      "metadata": {
        "colab": {
          "base_uri": "https://localhost:8080/"
        },
        "id": "ylqwO6SdtFkM",
        "outputId": "a7784dd6-49d9-4106-c39e-6022f611027f"
      },
      "outputs": [
        {
          "output_type": "stream",
          "name": "stdout",
          "text": [
            "Name:  R2J\n",
            "Age:  20\n"
          ]
        }
      ],
      "source": [
        "\n",
        "class Geek:\n",
        "\tdef __init__(self, name, age):\n",
        "\t\t# public data members\n",
        "\t\tself.geekName = name\n",
        "\t\tself.geekAge = age\n",
        "\t# public member function\t\n",
        "\tdef displayAge(self):\n",
        "\t\t# accessing public data member\n",
        "\t\tprint(\"Age: \", self.geekAge)\n",
        "# creating object of the class\n",
        "obj = Geek(\"R2J\", 20)\n",
        "# accessing public data member\n",
        "print(\"Name: \", obj.geekName)\n",
        "# calling public member function of the class\n",
        "obj.displayAge()\n"
      ]
    },
    {
      "cell_type": "code",
      "source": [
        "class Student:\n",
        "\t# protected data members\n",
        "\t_name = None\n",
        "\t_roll = None\n",
        "\t_branch = None\n",
        "\t# constructor\n",
        "\tdef __init__(self, name, roll, branch):\n",
        "\t\tself._name = name\n",
        "\t\tself._roll = roll\n",
        "\t\tself._branch = branch\n",
        "\t# protected member function\n",
        "\tdef _displayRollAndBranch(self):\n",
        "\t\t# accessing protected data members\n",
        "\t\tprint(\"Roll: \", self._roll)\n",
        "\t\tprint(\"Branch: \", self._branch)\n",
        "# derived class\n",
        "class Geek(Student):\n",
        "\t# constructor\n",
        "\tdef __init__(self, name, roll, branch):\n",
        "\t\t\t\tStudent.__init__(self, name, roll, branch)\n",
        "\t# public member function\n",
        "\tdef displayDetails(self):\n",
        "\t\t\t\t# accessing protected data members of super class\n",
        "\t\t\t\tprint(\"Name: \", self._name)\n",
        "\t\t\t\t# accessing protected member functions of super class\n",
        "\t\t\t\tself._displayRollAndBranch()\n",
        "# creating objects of the derived class\t\n",
        "obj = Geek(\"R2J\", 1706256, \"Information Technology\")\n",
        "# calling public member functions of the class\n",
        "obj.displayDetails()\n"
      ],
      "metadata": {
        "colab": {
          "base_uri": "https://localhost:8080/"
        },
        "id": "NEimSDNxtePG",
        "outputId": "55970264-23fb-44c6-b887-f73416919bd7"
      },
      "execution_count": 2,
      "outputs": [
        {
          "output_type": "stream",
          "name": "stdout",
          "text": [
            "Name:  R2J\n",
            "Roll:  1706256\n",
            "Branch:  Information Technology\n"
          ]
        }
      ]
    },
    {
      "cell_type": "code",
      "source": [
        "class Geek:\n",
        "\t__name = None\n",
        "\t__roll = None\n",
        "\t__branch = None\n",
        "\t# constructor\n",
        "\tdef __init__(self, name, roll, branch):\n",
        "\t\tself.__name = name\n",
        "\t\tself.__roll = roll\n",
        "\t\tself.__branch = branch\n",
        "\t# private member function\n",
        "\tdef __displayDetails(self):\n",
        "\t\t# accessing private data members\n",
        "\t\tprint(\"Name: \", self.__name)\n",
        "\t\tprint(\"Roll: \", self.__roll)\n",
        "\t\tprint(\"Branch: \", self.__branch)\n",
        "\t# public member function\n",
        "\tdef accessPrivateFunction(self):\t\n",
        "\t\t# accessing private member function\n",
        "\t\tself.__displayDetails()\n",
        "# creating object\n",
        "obj = Geek(\"R2J\", 1706256, \"Information Technology\")\n",
        "# calling public member function of the class\n",
        "obj.accessPrivateFunction()\n"
      ],
      "metadata": {
        "colab": {
          "base_uri": "https://localhost:8080/"
        },
        "id": "7NxE9aSvtyvI",
        "outputId": "abcdd52c-73f6-40d1-f8b4-5fdda565f8d0"
      },
      "execution_count": 3,
      "outputs": [
        {
          "output_type": "stream",
          "name": "stdout",
          "text": [
            "Name:  R2J\n",
            "Roll:  1706256\n",
            "Branch:  Information Technology\n"
          ]
        }
      ]
    }
  ]
}